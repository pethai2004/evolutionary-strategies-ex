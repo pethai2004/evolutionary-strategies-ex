{
 "cells": [
  {
   "cell_type": "code",
   "execution_count": 21,
   "id": "22ac382a-456c-4945-a44f-ed166d66f762",
   "metadata": {},
   "outputs": [],
   "source": [
    "import tensorflow as tf\n",
    "import numpy as np\n",
    "from tensorflow import keras\n",
    "import ray"
   ]
  },
  {
   "cell_type": "code",
   "execution_count": 54,
   "id": "3348ce35-c445-47da-bfe3-170ec1a91b06",
   "metadata": {},
   "outputs": [],
   "source": [
    "import mlagents\n",
    "from mlagents_envs.environment import UnityEnvironment"
   ]
  },
  {
   "cell_type": "code",
   "execution_count": 57,
   "id": "03cab3b3-779c-4a05-a0f5-667b5996ec93",
   "metadata": {},
   "outputs": [],
   "source": [
    "@ray.remote\n",
    "class Usim:\n",
    "    \n",
    "    def __init__(self, env_name):\n",
    "        self.env = UnityEnvironment(path, seed=1)"
   ]
  },
  {
   "cell_type": "code",
   "execution_count": 62,
   "id": "b1278bd3-2a79-49d5-b32f-4bfab94e0bd6",
   "metadata": {},
   "outputs": [
    {
     "ename": "UnityEnvironmentException",
     "evalue": "Couldn't launch the /unityproject/crawlerenv environment. Provided filename does not match any environments.",
     "output_type": "error",
     "traceback": [
      "\u001b[0;31m---------------------------------------------------------------------------\u001b[0m",
      "\u001b[0;31mUnityEnvironmentException\u001b[0m                 Traceback (most recent call last)",
      "\u001b[0;32m/tmp/ipykernel_3005/1933186491.py\u001b[0m in \u001b[0;36m<module>\u001b[0;34m\u001b[0m\n\u001b[1;32m      1\u001b[0m \u001b[0mpath\u001b[0m \u001b[0;34m=\u001b[0m \u001b[0;34m'/unityproject/crawlerenv'\u001b[0m\u001b[0;34m\u001b[0m\u001b[0;34m\u001b[0m\u001b[0m\n\u001b[0;32m----> 2\u001b[0;31m \u001b[0mk\u001b[0m \u001b[0;34m=\u001b[0m \u001b[0mUnityEnvironment\u001b[0m\u001b[0;34m(\u001b[0m\u001b[0mpath\u001b[0m\u001b[0;34m,\u001b[0m \u001b[0mseed\u001b[0m\u001b[0;34m=\u001b[0m\u001b[0;36m1\u001b[0m\u001b[0;34m)\u001b[0m\u001b[0;34m\u001b[0m\u001b[0;34m\u001b[0m\u001b[0m\n\u001b[0m\u001b[1;32m      3\u001b[0m \u001b[0mk\u001b[0m\u001b[0;34m.\u001b[0m\u001b[0mclose\u001b[0m\u001b[0;34m(\u001b[0m\u001b[0;34m)\u001b[0m\u001b[0;34m\u001b[0m\u001b[0;34m\u001b[0m\u001b[0m\n",
      "\u001b[0;32m~/miniconda3/envs/fastai/lib/python3.8/site-packages/mlagents_envs/environment.py\u001b[0m in \u001b[0;36m__init__\u001b[0;34m(self, file_name, worker_id, base_port, seed, no_graphics, timeout_wait, additional_args, side_channels, log_folder, num_areas)\u001b[0m\n\u001b[1;32m    213\u001b[0m         \u001b[0;32mif\u001b[0m \u001b[0mfile_name\u001b[0m \u001b[0;32mis\u001b[0m \u001b[0;32mnot\u001b[0m \u001b[0;32mNone\u001b[0m\u001b[0;34m:\u001b[0m\u001b[0;34m\u001b[0m\u001b[0;34m\u001b[0m\u001b[0m\n\u001b[1;32m    214\u001b[0m             \u001b[0;32mtry\u001b[0m\u001b[0;34m:\u001b[0m\u001b[0;34m\u001b[0m\u001b[0;34m\u001b[0m\u001b[0m\n\u001b[0;32m--> 215\u001b[0;31m                 self._process = env_utils.launch_executable(\n\u001b[0m\u001b[1;32m    216\u001b[0m                     \u001b[0mfile_name\u001b[0m\u001b[0;34m,\u001b[0m \u001b[0mself\u001b[0m\u001b[0;34m.\u001b[0m\u001b[0m_executable_args\u001b[0m\u001b[0;34m(\u001b[0m\u001b[0;34m)\u001b[0m\u001b[0;34m\u001b[0m\u001b[0;34m\u001b[0m\u001b[0m\n\u001b[1;32m    217\u001b[0m                 )\n",
      "\u001b[0;32m~/miniconda3/envs/fastai/lib/python3.8/site-packages/mlagents_envs/env_utils.py\u001b[0m in \u001b[0;36mlaunch_executable\u001b[0;34m(file_name, args)\u001b[0m\n\u001b[1;32m     99\u001b[0m     \u001b[0mlaunch_string\u001b[0m \u001b[0;34m=\u001b[0m \u001b[0mvalidate_environment_path\u001b[0m\u001b[0;34m(\u001b[0m\u001b[0mfile_name\u001b[0m\u001b[0;34m)\u001b[0m\u001b[0;34m\u001b[0m\u001b[0;34m\u001b[0m\u001b[0m\n\u001b[1;32m    100\u001b[0m     \u001b[0;32mif\u001b[0m \u001b[0mlaunch_string\u001b[0m \u001b[0;32mis\u001b[0m \u001b[0;32mNone\u001b[0m\u001b[0;34m:\u001b[0m\u001b[0;34m\u001b[0m\u001b[0;34m\u001b[0m\u001b[0m\n\u001b[0;32m--> 101\u001b[0;31m         raise UnityEnvironmentException(\n\u001b[0m\u001b[1;32m    102\u001b[0m             \u001b[0;34mf\"Couldn't launch the {file_name} environment. Provided filename does not match any environments.\"\u001b[0m\u001b[0;34m\u001b[0m\u001b[0;34m\u001b[0m\u001b[0m\n\u001b[1;32m    103\u001b[0m         )\n",
      "\u001b[0;31mUnityEnvironmentException\u001b[0m: Couldn't launch the /unityproject/crawlerenv environment. Provided filename does not match any environments."
     ]
    }
   ],
   "source": [
    "path = 'unityproject/crawlerenv.x86_64'\n",
    "k = UnityEnvironment(path, seed=1)\n",
    "k.close()"
   ]
  },
  {
   "cell_type": "code",
   "execution_count": 59,
   "id": "e93cd0c9-889f-4367-9250-962019e325c8",
   "metadata": {},
   "outputs": [
    {
     "name": "stderr",
     "output_type": "stream",
     "text": [
      "\u001b[2m\u001b[36m(Usim pid=83512)\u001b[0m E0628 06:27:49.801346064   83512 socket_utils_common_posix.cc:224] check for SO_REUSEPORT: {\"created\":\"@1656397669.801335965\",\"description\":\"SO_REUSEPORT unavailable on compiling system\",\"file\":\"src/core/lib/iomgr/socket_utils_common_posix.cc\",\"file_line\":193}\n",
      "\u001b[2m\u001b[36m(Usim pid=83512)\u001b[0m 2022-06-28 06:27:49,804\tERROR worker.py:451 -- Exception raised in creation task: The actor died because of an error raised in its creation task, \u001b[36mray::Usim.__init__()\u001b[39m (pid=83512, ip=65.108.32.181, repr=<__main__.Usim object at 0x7f2edc3d5370>)\n",
      "\u001b[2m\u001b[36m(Usim pid=83512)\u001b[0m   File \"/tmp/ipykernel_3005/771230315.py\", line 5, in __init__\n",
      "\u001b[2m\u001b[36m(Usim pid=83512)\u001b[0m   File \"/home/user/miniconda3/envs/fastai/lib/python3.8/site-packages/mlagents_envs/environment.py\", line 215, in __init__\n",
      "\u001b[2m\u001b[36m(Usim pid=83512)\u001b[0m     self._process = env_utils.launch_executable(\n",
      "\u001b[2m\u001b[36m(Usim pid=83512)\u001b[0m   File \"/home/user/miniconda3/envs/fastai/lib/python3.8/site-packages/mlagents_envs/env_utils.py\", line 101, in launch_executable\n",
      "\u001b[2m\u001b[36m(Usim pid=83512)\u001b[0m     raise UnityEnvironmentException(\n",
      "\u001b[2m\u001b[36m(Usim pid=83512)\u001b[0m mlagents_envs.exception.UnityEnvironmentException: Couldn't launch the unityproject/crawlerenv.x86_64 environment. Provided filename does not match any environments.\n"
     ]
    }
   ],
   "source": [
    "a = Usim.remote(path)"
   ]
  },
  {
   "cell_type": "code",
   "execution_count": null,
   "id": "0ec0b568-660a-4199-bfc1-b481fb0fb7cc",
   "metadata": {},
   "outputs": [],
   "source": [
    "UnityEnvironment(path, seed=1)"
   ]
  }
 ],
 "metadata": {
  "kernelspec": {
   "display_name": "Python 3 (ipykernel)",
   "language": "python",
   "name": "python3"
  },
  "language_info": {
   "codemirror_mode": {
    "name": "ipython",
    "version": 3
   },
   "file_extension": ".py",
   "mimetype": "text/x-python",
   "name": "python",
   "nbconvert_exporter": "python",
   "pygments_lexer": "ipython3",
   "version": "3.8.5"
  }
 },
 "nbformat": 4,
 "nbformat_minor": 5
}
